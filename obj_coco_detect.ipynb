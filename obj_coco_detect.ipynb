{
 "cells": [
  {
   "cell_type": "code",
   "execution_count": null,
   "metadata": {},
   "outputs": [],
   "source": [
    "import cv2\n",
    "import time\n",
    "import numpy as np"
   ]
  },
  {
   "cell_type": "code",
   "execution_count": null,
   "metadata": {},
   "outputs": [],
   "source": [
    "# load the COCO class names\n",
    "with open('./cv_models/object_detection_classes_coco.txt', 'r') as f:\n",
    "    class_names = f.read().split('\\n')\n",
    "\n",
    "# get a different color array for each of the classes\n",
    "COLORS = np.random.uniform(0, 255, size=(len(class_names), 3))\n",
    "\n",
    "# load the DNN model\n",
    "model = cv2.dnn.readNet(model='./cv_models/frozen_inference_graph.pb',\n",
    "                        config='./cv_models/ssd_mobilenet_v2_coco_2018_03_29.pbtxt.txt', \n",
    "                        framework='TensorFlow')"
   ]
  },
  {
   "cell_type": "code",
   "execution_count": null,
   "metadata": {},
   "outputs": [],
   "source": [
    "# capture the video\n",
    "# cap = cv2.VideoCapture('../../input/video_1.mp4')\n",
    "cap = cv2.VideoCapture(0)\n",
    "# get the video frames' width and height for proper saving of videos\n",
    "frame_width = int(cap.get(3))\n",
    "frame_height = int(cap.get(4))\n",
    "# create the `VideoWriter()` object\n",
    "out = cv2.VideoWriter('./Captured/video_result.mp4', cv2.VideoWriter_fourcc(*'mp4v'), 30, \n",
    "                      (frame_width, frame_height))\n",
    "\n",
    "# detect objects in each frame of the video\n",
    "while cap.isOpened():\n",
    "    ret, frame = cap.read()\n",
    "    if ret:\n",
    "        image = frame\n",
    "        image_height, image_width, _ = image.shape\n",
    "        # create blob from image\n",
    "        blob = cv2.dnn.blobFromImage(image=image, size=(300, 300), mean=(104, 117, 123), \n",
    "                                     swapRB=True)\n",
    "        # start time to calculate FPS\n",
    "        start = time.time()\n",
    "        model.setInput(blob)\n",
    "        output = model.forward()        \n",
    "        # end time after detection\n",
    "        end = time.time()\n",
    "        # calculate the FPS for current frame detection\n",
    "        fps = 1 / (end-start)\n",
    "        # loop over each of the detections\n",
    "        for detection in output[0, 0, :, :]:\n",
    "            # extract the confidence of the detection\n",
    "            confidence = detection[2]\n",
    "            # draw bounding boxes only if the detection confidence is above...\n",
    "            # ... a certain threshold, else skip \n",
    "            if confidence > .4:\n",
    "                # get the class id\n",
    "                class_id = detection[1]\n",
    "                # map the class id to the class \n",
    "                class_name = class_names[int(class_id)-1]\n",
    "                color = COLORS[int(class_id)]\n",
    "                # get the bounding box coordinates\n",
    "                box_x = detection[3] * image_width\n",
    "                box_y = detection[4] * image_height\n",
    "                # get the bounding box width and height\n",
    "                box_width = detection[5] * image_width\n",
    "                box_height = detection[6] * image_height\n",
    "                # draw a rectangle around each detected object\n",
    "                cv2.rectangle(image, (int(box_x), int(box_y)), (int(box_width), int(box_height)), color, thickness=2)\n",
    "                # put the class name text on the detected object\n",
    "                cv2.putText(image, class_name, (int(box_x), int(box_y - 5)), cv2.FONT_HERSHEY_SIMPLEX, 1, color, 2)\n",
    "                # put the FPS text on top of the frame\n",
    "                cv2.putText(image, f\"{fps:.2f} FPS\", (20, 30), cv2.FONT_HERSHEY_SIMPLEX, 1, (0, 255, 0), 2) \n",
    "        \n",
    "        cv2.imshow('image', image)\n",
    "        out.write(image)\n",
    "        if cv2.waitKey(10) & 0xFF == ord('q'):\n",
    "            break\n",
    "    else:\n",
    "        break\n",
    "\n",
    "cap.release()\n",
    "cv2.destroyAllWindows()"
   ]
  },
  {
   "cell_type": "code",
   "execution_count": null,
   "metadata": {},
   "outputs": [],
   "source": []
  }
 ],
 "metadata": {
  "kernelspec": {
   "display_name": "kivy_env",
   "language": "python",
   "name": "python3"
  },
  "language_info": {
   "codemirror_mode": {
    "name": "ipython",
    "version": 3
   },
   "file_extension": ".py",
   "mimetype": "text/x-python",
   "name": "python",
   "nbconvert_exporter": "python",
   "pygments_lexer": "ipython3",
   "version": "3.9.13"
  },
  "orig_nbformat": 4
 },
 "nbformat": 4,
 "nbformat_minor": 2
}
