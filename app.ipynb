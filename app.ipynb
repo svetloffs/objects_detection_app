{
 "cells": [
  {
   "cell_type": "code",
   "execution_count": null,
   "metadata": {},
   "outputs": [],
   "source": [
    "# from kivy.app import App\n",
    "# from kivy.uix.label import Label\n",
    "import kivy  # importing main package\n",
    "from kivy.app import App  # required base class for your app.\n",
    "from kivy.uix.label import Label  # uix element that will hold text\n",
    "# kivy.require(\"1.10.1\")  # make sure people running py file have right version"
   ]
  },
  {
   "cell_type": "code",
   "execution_count": null,
   "metadata": {},
   "outputs": [],
   "source": [
    "# class MainApp(App):\n",
    "#     def build(self):\n",
    "#         label = Label(text='Hello from Kivy',\n",
    "#                       size_hint=(.5, .5),\n",
    "#                       pos_hint={'center_x': .5, 'center_y': .5})\n",
    "\n",
    "#         return label\n",
    "\n",
    "# if __name__ == '__main__':\n",
    "#     app = MainApp()\n",
    "#     app.run()"
   ]
  },
  {
   "cell_type": "code",
   "execution_count": null,
   "metadata": {},
   "outputs": [],
   "source": [
    "class EpicApp(App):\n",
    "    # This is your \"initialize\" for the root wiget\n",
    "    def build(self):\n",
    "        # Creates that label which will just hold text.\n",
    "        return Label(text=\"Hey there!\")\n",
    "\n",
    "\n",
    "# Run the app.\n",
    "if __name__ == \"__main__\":\n",
    "    EpicApp().run()"
   ]
  },
  {
   "cell_type": "code",
   "execution_count": null,
   "metadata": {},
   "outputs": [],
   "source": []
  }
 ],
 "metadata": {
  "kernelspec": {
   "display_name": "kivy_env",
   "language": "python",
   "name": "python3"
  },
  "language_info": {
   "codemirror_mode": {
    "name": "ipython",
    "version": 3
   },
   "file_extension": ".py",
   "mimetype": "text/x-python",
   "name": "python",
   "nbconvert_exporter": "python",
   "pygments_lexer": "ipython3",
   "version": "3.10.6"
  },
  "orig_nbformat": 4
 },
 "nbformat": 4,
 "nbformat_minor": 2
}
